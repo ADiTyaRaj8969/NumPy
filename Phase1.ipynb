{
 "cells": [
  {
   "cell_type": "markdown",
   "id": "60389025",
   "metadata": {},
   "source": [
    "## Numpy array and Basics"
   ]
  },
  {
   "cell_type": "code",
   "execution_count": 2,
   "id": "44a0346f",
   "metadata": {},
   "outputs": [],
   "source": [
    "import numpy as np"
   ]
  },
  {
   "cell_type": "markdown",
   "id": "54359183",
   "metadata": {},
   "source": [
    "### Creating array from list"
   ]
  },
  {
   "cell_type": "code",
   "execution_count": null,
   "id": "98fa45c0",
   "metadata": {},
   "outputs": [
    {
     "name": "stdout",
     "output_type": "stream",
     "text": [
      "1D Array:  [1 2 3 4 5]\n",
      "2D Array:  [[1 2 3]\n",
      " [8 9 7]]\n"
     ]
    }
   ],
   "source": [
    "arr_1d = np.array([1,2,3,4,5])\n",
    "print(\"1D Array: \",arr_1d)\n",
    "arr_2d =np.array([[1,2,3],[8,9,7]])\n",
    "print(\"2D Array: \",arr_2d)"
   ]
  },
  {
   "cell_type": "markdown",
   "id": "2ffb5455",
   "metadata": {},
   "source": [
    "### List Vs Numpy"
   ]
  },
  {
   "cell_type": "code",
   "execution_count": null,
   "id": "15f7666c",
   "metadata": {},
   "outputs": [
    {
     "name": "stdout",
     "output_type": "stream",
     "text": [
      "Python list multiplication  [1, 2, 3, 1, 2, 3]\n",
      "Python array multiplication [2 4 8]\n",
      "\n",
      "List operation time:  0.005563020706176758\n",
      "\n",
      "Numpy operation time:  0.011313676834106445\n"
     ]
    }
   ],
   "source": [
    "import time \n",
    "\n",
    "py_list = [1, 2, 3]\n",
    "print(\"Python list multiplication \", py_list * 2)\n",
    "\n",
    "np_array = np.array([1, 2, 4])  # element wise multiplication\n",
    "print(\"Python array multiplication\", np_array * 2)\n",
    "\n",
    "# Measure time for list operation\n",
    "start = time.time()\n",
    "py_list = [i * 2 for i in range(100000)]\n",
    "print(\"\\nList operation time: \", time.time() - start)\n",
    "\n",
    "# Measure time for numpy operation\n",
    "start = time.time()\n",
    "np_array = np.arange(100000) * 2\n",
    "print(\"\\nNumpy operation time: \", time.time() - start)\n"
   ]
  },
  {
   "cell_type": "markdown",
   "id": "c2f49784",
   "metadata": {},
   "source": [
    "### Creating Array From Scratch"
   ]
  },
  {
   "cell_type": "code",
   "execution_count": 7,
   "id": "26d17482",
   "metadata": {},
   "outputs": [
    {
     "name": "stdout",
     "output_type": "stream",
     "text": [
      "Zeros array:\n",
      " [[0. 0. 0. 0.]\n",
      " [0. 0. 0. 0.]\n",
      " [0. 0. 0. 0.]]\n",
      "Ones array:\n",
      " [[1. 1. 1.]\n",
      " [1. 1. 1.]]\n",
      "Full array:\n",
      " [[7 7 7]\n",
      " [7 7 7]\n",
      " [7 7 7]]\n",
      "Random array:\n",
      " [[0.76975542 0.54582935 0.0702876 ]\n",
      " [0.78918009 0.49586415 0.43480861]]\n",
      "Sequence array:\n",
      " [0 2 4 6 8]\n"
     ]
    }
   ],
   "source": [
    "zeros = np.zeros((3,4))\n",
    "print(\"Zeros array:\\n\",zeros)\n",
    "\n",
    "ones = np.ones((2,3))\n",
    "print(\"Ones array:\\n\",ones)\n",
    "\n",
    "full = np.full((3,3),7)\n",
    "print(\"Full array:\\n\",full)\n",
    "\n",
    "random = np.random.random((2,3))\n",
    "print(\"Random array:\\n\",random)\n",
    "\n",
    "sequence = np.arange(0,10,2)\n",
    "print(\"Sequence array:\\n\",sequence)\n"
   ]
  },
  {
   "cell_type": "markdown",
   "id": "811fc817",
   "metadata": {},
   "source": [
    "### Vector, Matrix and Tensor"
   ]
  },
  {
   "cell_type": "code",
   "execution_count": 10,
   "id": "1f0ac9a2",
   "metadata": {},
   "outputs": [
    {
     "name": "stdout",
     "output_type": "stream",
     "text": [
      "Vector:  [1 2 3]\n",
      "matrix:  [[1 2 3]\n",
      " [4 5 6]]\n",
      "Tensor:  [[[1 2]\n",
      "  [3 4]]\n",
      "\n",
      " [[5 6]\n",
      "  [7 8]]]\n"
     ]
    }
   ],
   "source": [
    "vector = np.array([1,2,3])\n",
    "print(\"Vector: \",vector)\n",
    "\n",
    "matrix = np.array([[1,2,3],\n",
    "                   [4,5,6]])\n",
    "print(\"matrix: \",matrix)\n",
    "\n",
    "tensor = np.array([[[1,2],[3,4]],\n",
    "                    [[5,6],[7,8]]])\n",
    "print(\"Tensor: \",tensor)"
   ]
  },
  {
   "cell_type": "markdown",
   "id": "435c5a92",
   "metadata": {},
   "source": [
    "### Array Properties"
   ]
  },
  {
   "cell_type": "code",
   "execution_count": 12,
   "id": "40eca316",
   "metadata": {},
   "outputs": [
    {
     "name": "stdout",
     "output_type": "stream",
     "text": [
      "Shape : (2, 3)\n",
      "Dimension  2\n",
      "Size  6\n",
      "Data type int32\n"
     ]
    }
   ],
   "source": [
    "arr = np.array([[ 1,2,3],[4,5,6]])\n",
    "\n",
    "print(\"Shape :\", arr.shape)\n",
    "print(\"Dimension \",arr.ndim)\n",
    "print(\"Size \",arr.size)\n",
    "print(\"Data type\",arr.dtype)\n",
    "\n"
   ]
  },
  {
   "cell_type": "markdown",
   "id": "8eeb9b88",
   "metadata": {},
   "source": [
    "### Array Reshaping"
   ]
  },
  {
   "cell_type": "code",
   "execution_count": 17,
   "id": "5699bdd5",
   "metadata": {},
   "outputs": [
    {
     "name": "stdout",
     "output_type": "stream",
     "text": [
      "Original array:  [ 0  1  2  3  4  5  6  7  8  9 10 11]\n",
      "\n",
      " Reshape Array:  [[ 0  1  2  3]\n",
      " [ 4  5  6  7]\n",
      " [ 8  9 10 11]]\n",
      "\n",
      " Flattened Array  [ 0  1  2  3  4  5  6  7  8  9 10 11]\n",
      "\n",
      " raveled array [ 0  1  2  3  4  5  6  7  8  9 10 11]\n",
      "\n",
      " Transposed Array  [[ 0  4  8]\n",
      " [ 1  5  9]\n",
      " [ 2  6 10]\n",
      " [ 3  7 11]]\n"
     ]
    }
   ],
   "source": [
    "arr = np.arange(12)\n",
    "print(\"Original array: \",arr)\n",
    "\n",
    "reshaped = arr.reshape(3,4)\n",
    "print(\"\\n Reshape Array: \",reshaped)\n",
    "\n",
    "flattened = reshaped.flatten()\n",
    "print(\"\\n Flattened Array \", flattened)\n",
    "\n",
    "# Returns (return view , instead of copy)\n",
    "raveled = reshaped.ravel()\n",
    "print(\"\\n raveled array\",raveled)\n",
    "\n",
    "# Transpose\n",
    "transpose = reshaped.T \n",
    "print(\"\\n Transposed Array \",transpose)"
   ]
  }
 ],
 "metadata": {
  "kernelspec": {
   "display_name": "Python 3",
   "language": "python",
   "name": "python3"
  },
  "language_info": {
   "codemirror_mode": {
    "name": "ipython",
    "version": 3
   },
   "file_extension": ".py",
   "mimetype": "text/x-python",
   "name": "python",
   "nbconvert_exporter": "python",
   "pygments_lexer": "ipython3",
   "version": "3.12.3"
  }
 },
 "nbformat": 4,
 "nbformat_minor": 5
}
